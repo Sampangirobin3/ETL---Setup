{
 "cells": [
  {
   "cell_type": "code",
   "execution_count": null,
   "id": "81f668f9",
   "metadata": {},
   "outputs": [],
   "source": [
    "import os\n",
    "import tkinter.filedialog as tk\n",
    "from tkinter import messagebox\n",
    "from datetime import datetime\n",
    "import pandas as pd\n",
    "import pyodbc\n",
    "import warnings\n",
    "from openpyxl import load_workbook\n",
    "from openpyxl.utils.dataframe import dataframe_to_rows\n",
    "from concurrent.futures import ThreadPoolExecutor, as_completed\n",
    "from IPython.display import display\n",
    "import win32com.client as client\n",
    "import re\n",
    " \n",
    "# Suppress pandas warning about pyodbc\n",
    "warnings.filterwarnings(\"ignore\", category=UserWarning)\n"
   ]
  },
  {
   "cell_type": "code",
   "execution_count": null,
   "id": "ed664d11",
   "metadata": {},
   "outputs": [],
   "source": [
    "# --- Config ---\n",
    "DB_STRUCTURE_PATH = r'C:\\Users\\IN10031033\\Desktop\\Important\\Querys\\Jupiter NoteBook\\SqlDBStructure.xlsx'\n",
    "MASTER_FILE_PATH = r'C:\\Users\\IN10031033\\Desktop\\Important\\Querys\\Jupiter NoteBook\\Mapping.xlsx'\n",
    "OUTPUT_DIR = r'C:\\Users\\IN10031033\\Desktop\\Important\\Final\\New Folder'\n"
   ]
  },
  {
   "cell_type": "code",
   "execution_count": null,
   "id": "2199eb29",
   "metadata": {},
   "outputs": [],
   "source": [
    "import re\n",
    "import pandas as pd\n",
    "\n",
    "# --- Function to clean illegal characters ---\n",
    "def clean_illegal_characters(value):\n",
    "    \"\"\"Remove illegal characters for Excel cells\"\"\"\n",
    "    if isinstance(value, str):\n",
    "        return re.sub(r'[\\x00-\\x08\\x0b\\x0c\\x0e-\\x1f\\x7f-\\x84\\x86-\\x9f]', '', value)\n",
    "    return value\n",
    "\n",
    "# --- Function to clean entire dataframe ---\n",
    "def clean_dataframe(df):\n",
    "    \"\"\"Clean all string columns in a dataframe\"\"\"\n",
    "    df_cleaned = df.copy()\n",
    "\n",
    "    for col in df_cleaned.columns:\n",
    "        try:\n",
    "            if pd.api.types.is_object_dtype(df_cleaned[col]):\n",
    "                df_cleaned[col] = df_cleaned[col].apply(clean_illegal_characters)\n",
    "        except Exception as e:\n",
    "            print(f\"Skipping column {col} due to error: {e}\")\n",
    "\n",
    "    return df_cleaned\n"
   ]
  },
  {
   "cell_type": "code",
   "execution_count": null,
   "id": "25ad37b2",
   "metadata": {},
   "outputs": [],
   "source": [
    "# --- Step 1: Load Workbooks ---\n",
    "master_file = load_workbook(MASTER_FILE_PATH)\n",
    "if 'LogFile' in master_file.sheetnames:\n",
    "    del master_file['LogFile']\n",
    "if 'Raw Data' in master_file.sheetnames:\n",
    "    del master_file['Raw Data']\n",
    " \n",
    "log_sheet = master_file.create_sheet('LogFile')\n",
    "raw_data_sheet = master_file.create_sheet('Raw Data')\n"
   ]
  },
  {
   "cell_type": "code",
   "execution_count": null,
   "id": "3961f650",
   "metadata": {},
   "outputs": [],
   "source": [
    "# Setup log headers\n",
    "log_sheet.cell(row=1, column=1).value = 'Facility'\n",
    "log_sheet.cell(row=1, column=2).value = 'Status'\n",
    "log_sheet.cell(row=1, column=3).value = 'Row Count'\n",
    "log_sheet.cell(row=1, column=4).value = 'Duration (s)'\n"
   ]
  },
  {
   "cell_type": "code",
   "execution_count": null,
   "id": "bd752b8d",
   "metadata": {
    "scrolled": false
   },
   "outputs": [],
   "source": [
    "# Load database list\n",
    "db_file = load_workbook(DB_STRUCTURE_PATH)\n",
    "db_sheet = db_file['All Sites']\n"
   ]
  },
  {
   "cell_type": "code",
   "execution_count": null,
   "id": "c80a3f35",
   "metadata": {
    "scrolled": false
   },
   "outputs": [],
   "source": [
    "# --- Step 2: Select Query File ---\n",
    "query_path = tk.askopenfilename(title=\"Select your SQL query\", filetypes=[(\"SQL/Text Files\", \"*.sql *.txt\")])\n",
    "report_name = os.path.basename(query_path).replace(\".txt\", \"\").replace(\".sql\", \"\")\n",
    "with open(query_path, 'r') as f:\n",
    "    query = f.read()\n"
   ]
  },
  {
   "cell_type": "code",
   "execution_count": null,
   "id": "ffc4b6e4",
   "metadata": {},
   "outputs": [],
   "source": [
    "# --- Step 3: Prepare DB Targets ---\n",
    "targets = []\n",
    "for i in range(2, db_sheet.max_row + 1):\n",
    "    facility = db_sheet.cell(row=i, column=1).value\n",
    "    database = db_sheet.cell(row=i, column=2).value\n",
    "    server = db_sheet.cell(row=i, column=3).value\n",
    " \n",
    "    if server and database:\n",
    "        targets.append((i, facility, database, server))\n",
    "\n"
   ]
  },
  {
   "cell_type": "code",
   "execution_count": null,
   "id": "0616f059",
   "metadata": {},
   "outputs": [],
   "source": [
    "# --- Step 4: Parallel Query Function ---\n",
    "def fetch_data(row_num, facility, database, server, query):\n",
    "    try:\n",
    "        print(f\"Connecting to {database} on {server}...\")\n",
    "        start = datetime.now()\n",
    "        conn = pyodbc.connect(f\"Driver={{SQL Server}};Server={server};Database={database};Trusted_Connection=yes;\")\n",
    "        df = pd.read_sql(query, conn)\n",
    "        conn.close()\n",
    "        duration = (datetime.now() - start).total_seconds()\n",
    "        \n",
    "        # Clean the dataframe before returning\n",
    "        df_cleaned = clean_dataframe(df)\n",
    "        \n",
    "        return (row_num, facility, df_cleaned, len(df_cleaned), duration, \"Success\")\n",
    "    except Exception as e:\n",
    "        return (row_num, facility, None, 0, 0, f\"Error: {str(e)}\")\n"
   ]
  },
  {
   "cell_type": "code",
   "execution_count": null,
   "id": "05487079",
   "metadata": {
    "scrolled": true
   },
   "outputs": [],
   "source": [
    "# --- Step 5: Execute in Parallel ---\n",
    "combined_df = pd.DataFrame()\n",
    "header_written = False\n",
    " \n",
    "with ThreadPoolExecutor(max_workers=60) as executor:\n",
    "    futures = [executor.submit(fetch_data, *args, query) for args in targets]\n",
    "    for future in as_completed(futures):\n",
    "        row_num, facility, df, row_count, duration, status = future.result()\n",
    " \n",
    "        # Log results in Excel\n",
    "        log_sheet.cell(row=row_num, column=1).value = facility\n",
    "        log_sheet.cell(row=row_num, column=2).value = status\n",
    "        log_sheet.cell(row=row_num, column=3).value = row_count\n",
    "        log_sheet.cell(row=row_num, column=4).value = round(duration, 2)\n",
    " \n",
    "        # Write raw data (only one header) - data is already cleaned\n",
    "        if df is not None and not df.empty:\n",
    "            try:\n",
    "                if not header_written:\n",
    "                    for row in dataframe_to_rows(df, index=False, header=True):\n",
    "                        raw_data_sheet.append(row)\n",
    "                    header_written = True\n",
    "                else:\n",
    "                    for row in dataframe_to_rows(df, index=False, header=False):\n",
    "                        raw_data_sheet.append(row)\n",
    "                combined_df = pd.concat([combined_df, df], ignore_index=True)\n",
    "            except Exception as e:\n",
    "                print(f\"Error writing data for {facility}: {e}\")\n",
    "                # Log the error in the log sheet\n",
    "                log_sheet.cell(row=row_num, column=2).value = f\"Write Error: {str(e)}\"\n"
   ]
  },
  {
   "cell_type": "code",
   "execution_count": null,
   "id": "7a9de23f",
   "metadata": {},
   "outputs": [],
   "source": [
    "# --- Step 6: Add Site VLOOKUP Column ---\n",
    "print(\"Inserting 'Site' column with VLOOKUP formula...\")\n",
    "raw_data_sheet.insert_cols(2)\n",
    "raw_data_sheet.cell(row=1, column=2).value = 'Site'\n",
    "for row in range(2, raw_data_sheet.max_row + 1):\n",
    "    formula = f'=VLOOKUP(A{row},Mapp!A:B,2,0)'\n",
    "    raw_data_sheet.cell(row=row, column=2).value = formula\n"
   ]
  },
  {
   "cell_type": "code",
   "execution_count": null,
   "id": "5f26e545",
   "metadata": {
    "scrolled": false
   },
   "outputs": [],
   "source": [
    "# --- Step 7: Save Final File ---\n",
    "timestamp = datetime.now().strftime(\"%Y%m%d-%H%M%S\")\n",
    "output_file = os.path.join(OUTPUT_DIR, f\"{report_name}_{timestamp}.xlsx\")\n",
    "master_file.save(output_file)\n",
    "print(f\"✅ File saved: {output_file}\")\n"
   ]
  },
  {
   "cell_type": "code",
   "execution_count": null,
   "id": "59efde06",
   "metadata": {
    "scrolled": true
   },
   "outputs": [],
   "source": [
    "# Optional: Preview\n",
    "display(combined_df.head(10))\n",
    "print(f\"Combined dataframe shape: {combined_df.shape}\")\n"
   ]
  },
  {
   "cell_type": "code",
   "execution_count": null,
   "id": "4ff767da",
   "metadata": {},
   "outputs": [],
   "source": [
    "import winsound\n",
    "import ctypes\n",
    "winsound.MessageBeep()\n",
    "ctypes.windll.user32.MessageBoxW(0, \"Hey your Code is completed\", \"Task Complete\", 0x40000)"
   ]
  },
  {
   "cell_type": "code",
   "execution_count": null,
   "id": "d9829a40",
   "metadata": {},
   "outputs": [],
   "source": [
    "\n"
   ]
  },
  {
   "cell_type": "code",
   "execution_count": null,
   "id": "6cf92f66",
   "metadata": {},
   "outputs": [],
   "source": []
  },
  {
   "cell_type": "code",
   "execution_count": null,
   "id": "8da55eef",
   "metadata": {},
   "outputs": [],
   "source": [
    "\n",
    "\n",
    " "
   ]
  },
  {
   "cell_type": "code",
   "execution_count": null,
   "id": "07c7d21f",
   "metadata": {},
   "outputs": [],
   "source": []
  },
  {
   "cell_type": "code",
   "execution_count": null,
   "id": "7aa847c5",
   "metadata": {},
   "outputs": [],
   "source": []
  },
  {
   "cell_type": "code",
   "execution_count": null,
   "id": "a948e484",
   "metadata": {},
   "outputs": [],
   "source": []
  },
  {
   "cell_type": "code",
   "execution_count": null,
   "id": "60e9a737",
   "metadata": {},
   "outputs": [],
   "source": []
  },
  {
   "cell_type": "raw",
   "id": "3cb487dc",
   "metadata": {},
   "source": []
  }
 ],
 "metadata": {
  "kernelspec": {
   "display_name": "Python 3 (ipykernel)",
   "language": "python",
   "name": "python3"
  },
  "language_info": {
   "codemirror_mode": {
    "name": "ipython",
    "version": 3
   },
   "file_extension": ".py",
   "mimetype": "text/x-python",
   "name": "python",
   "nbconvert_exporter": "python",
   "pygments_lexer": "ipython3",
   "version": "3.11.5"
  }
 },
 "nbformat": 4,
 "nbformat_minor": 5
}
